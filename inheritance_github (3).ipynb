{
  "nbformat": 4,
  "nbformat_minor": 0,
  "metadata": {
    "colab": {
      "name": "inheritance github.ipynb",
      "provenance": [],
      "collapsed_sections": []
    },
    "kernelspec": {
      "name": "python3",
      "display_name": "Python 3"
    },
    "language_info": {
      "name": "python"
    }
  },
  "cells": [
    {
      "cell_type": "code",
      "execution_count": 15,
      "metadata": {
        "id": "pFviafPVeIMz"
      },
      "outputs": [],
      "source": [
        ""
      ]
    },
    {
      "cell_type": "code",
      "source": [
        ""
      ],
      "metadata": {
        "id": "B3Qkvli0q9Fk"
      },
      "execution_count": 15,
      "outputs": []
    },
    {
      "cell_type": "code",
      "source": [
        "class origin:\n",
        "    def family_info(self):\n",
        "        print('Inside Grandfather class')\n",
        "\n",
        "# Child class\n",
        "class branch(origin):\n",
        "    def rel_info(self):\n",
        "        print('Inside father class')\n",
        "\n",
        "# Child class\n",
        "class leaf(branch):\n",
        "    def son_info(self):\n",
        "        print('Inside son class')\n",
        "\n",
        "# Create object of SportsCar\n",
        "s_car = leaf()\n",
        "\n",
        "# access Vehicle's and Car info using SportsCar object\n",
        "s_car.family_info()\n",
        "s_car.rel_info()\n",
        "s_car.son_info()"
      ],
      "metadata": {
        "colab": {
          "base_uri": "https://localhost:8080/"
        },
        "id": "bT0ps9octS2Z",
        "outputId": "f69bd7c3-de0d-4cc8-da74-723c227c17c5"
      },
      "execution_count": 15,
      "outputs": [
        {
          "output_type": "stream",
          "name": "stdout",
          "text": [
            "Inside Grandfather class\n",
            "Inside father class\n",
            "Inside son class\n"
          ]
        }
      ]
    }
  ]
}